{
 "cells": [
  {
   "cell_type": "code",
   "execution_count": 2,
   "id": "bdcea9d7-f65d-4f42-bcf4-268ba3173d4f",
   "metadata": {},
   "outputs": [],
   "source": [
    "import pandas as pd"
   ]
  },
  {
   "cell_type": "code",
   "execution_count": 4,
   "id": "27018d5e-e445-4cfb-997b-60ee0acb4b85",
   "metadata": {},
   "outputs": [
    {
     "name": "stdout",
     "output_type": "stream",
     "text": [
      "<class 'pandas.core.frame.DataFrame'>\n",
      "RangeIndex: 131 entries, 0 to 130\n",
      "Data columns (total 7 columns):\n",
      " #   Column        Non-Null Count  Dtype \n",
      "---  ------        --------------  ----- \n",
      " 0   date          131 non-null    object\n",
      " 1   tourney_name  131 non-null    object\n",
      " 2   organizer     131 non-null    object\n",
      " 3   players       131 non-null    int64 \n",
      " 4   winner        131 non-null    object\n",
      " 5   country       131 non-null    object\n",
      " 6   url           131 non-null    object\n",
      "dtypes: int64(1), object(6)\n",
      "memory usage: 7.3+ KB\n"
     ]
    }
   ],
   "source": [
    "### 1. 파일열기\n",
    "tourney_result_file_name = \"tourney_result_250118_004156.csv\"\n",
    "df = pd.read_csv(\"./tourney_result/\" + tourney_result_file_name, encoding='utf-8')\n",
    "df.info()"
   ]
  },
  {
   "cell_type": "code",
   "execution_count": 5,
   "id": "b8886fbf-df51-45db-86a9-39980313849b",
   "metadata": {},
   "outputs": [
    {
     "data": {
      "text/html": [
       "<div>\n",
       "<style scoped>\n",
       "    .dataframe tbody tr th:only-of-type {\n",
       "        vertical-align: middle;\n",
       "    }\n",
       "\n",
       "    .dataframe tbody tr th {\n",
       "        vertical-align: top;\n",
       "    }\n",
       "\n",
       "    .dataframe thead th {\n",
       "        text-align: right;\n",
       "    }\n",
       "</style>\n",
       "<table border=\"1\" class=\"dataframe\">\n",
       "  <thead>\n",
       "    <tr style=\"text-align: right;\">\n",
       "      <th></th>\n",
       "      <th>date</th>\n",
       "      <th>tourney_name</th>\n",
       "      <th>organizer</th>\n",
       "      <th>players</th>\n",
       "      <th>winner</th>\n",
       "      <th>country</th>\n",
       "      <th>url</th>\n",
       "    </tr>\n",
       "  </thead>\n",
       "  <tbody>\n",
       "    <tr>\n",
       "      <th>0</th>\n",
       "      <td>2025-01-17</td>\n",
       "      <td>Flash Friday #4</td>\n",
       "      <td>Pokemon Downunder</td>\n",
       "      <td>163</td>\n",
       "      <td>Manbok</td>\n",
       "      <td>Korea</td>\n",
       "      <td>play.limitlesstcg.com/tournament/67848af07960e...</td>\n",
       "    </tr>\n",
       "    <tr>\n",
       "      <th>1</th>\n",
       "      <td>2025-01-17</td>\n",
       "      <td>Torneio TD PADRO  - 2#/Janeiro - Free - BR</td>\n",
       "      <td>Thiago Donola</td>\n",
       "      <td>156</td>\n",
       "      <td>00_kj7</td>\n",
       "      <td>Japan</td>\n",
       "      <td>play.limitlesstcg.com/tournament/6780a9c67960e...</td>\n",
       "    </tr>\n",
       "    <tr>\n",
       "      <th>2</th>\n",
       "      <td>2025-01-17</td>\n",
       "      <td>Team Rocket Pocket Cup #25</td>\n",
       "      <td>Team Rocket</td>\n",
       "      <td>127</td>\n",
       "      <td>Manaa</td>\n",
       "      <td>Japan</td>\n",
       "      <td>play.limitlesstcg.com/tournament/6774a709ed2c7...</td>\n",
       "    </tr>\n",
       "    <tr>\n",
       "      <th>3</th>\n",
       "      <td>2025-01-17</td>\n",
       "      <td>Team Rocket Pocket Cup #24</td>\n",
       "      <td>Team Rocket</td>\n",
       "      <td>211</td>\n",
       "      <td>bau</td>\n",
       "      <td>Japan</td>\n",
       "      <td>play.limitlesstcg.com/tournament/6774a6d7ed2c7...</td>\n",
       "    </tr>\n",
       "    <tr>\n",
       "      <th>4</th>\n",
       "      <td>2025-01-16</td>\n",
       "      <td>The Dark League Wednesday #3</td>\n",
       "      <td>The Dark League</td>\n",
       "      <td>167</td>\n",
       "      <td>kinkakuj</td>\n",
       "      <td>Japan</td>\n",
       "      <td>play.limitlesstcg.com/tournament/6786a39f99961...</td>\n",
       "    </tr>\n",
       "  </tbody>\n",
       "</table>\n",
       "</div>"
      ],
      "text/plain": [
       "         date                                 tourney_name          organizer  \\\n",
       "0  2025-01-17                              Flash Friday #4  Pokemon Downunder   \n",
       "1  2025-01-17   Torneio TD PADRO  - 2#/Janeiro - Free - BR      Thiago Donola   \n",
       "2  2025-01-17                   Team Rocket Pocket Cup #25        Team Rocket   \n",
       "3  2025-01-17                   Team Rocket Pocket Cup #24        Team Rocket   \n",
       "4  2025-01-16                 The Dark League Wednesday #3    The Dark League   \n",
       "\n",
       "   players    winner country  \\\n",
       "0      163    Manbok   Korea   \n",
       "1      156    00_kj7   Japan   \n",
       "2      127     Manaa   Japan   \n",
       "3      211       bau   Japan   \n",
       "4      167  kinkakuj   Japan   \n",
       "\n",
       "                                                 url  \n",
       "0  play.limitlesstcg.com/tournament/67848af07960e...  \n",
       "1  play.limitlesstcg.com/tournament/6780a9c67960e...  \n",
       "2  play.limitlesstcg.com/tournament/6774a709ed2c7...  \n",
       "3  play.limitlesstcg.com/tournament/6774a6d7ed2c7...  \n",
       "4  play.limitlesstcg.com/tournament/6786a39f99961...  "
      ]
     },
     "execution_count": 5,
     "metadata": {},
     "output_type": "execute_result"
    }
   ],
   "source": [
    "df.head()"
   ]
  },
  {
   "cell_type": "code",
   "execution_count": 9,
   "id": "41a7a983-7959-4f39-a20e-f9293947cbad",
   "metadata": {},
   "outputs": [
    {
     "data": {
      "text/plain": [
       "numpy.int64"
      ]
     },
     "execution_count": 9,
     "metadata": {},
     "output_type": "execute_result"
    }
   ],
   "source": [
    "p0 = df['players'][0]\n",
    "type(p0)"
   ]
  },
  {
   "cell_type": "code",
   "execution_count": 14,
   "id": "ebb99e6f-856f-403f-8a4d-41bd083e9f5c",
   "metadata": {},
   "outputs": [
    {
     "name": "stdout",
     "output_type": "stream",
     "text": [
      "          country  players\n",
      "13          Japan     7328\n",
      "20  United States     6572\n",
      "7          France     4806\n",
      "21        Unknown     2751\n",
      "12          Italy     2556\n",
      "2          Brazil     1949\n",
      "8         Germany     1766\n",
      "14          Korea     1365\n",
      "11      Indonesia      970\n",
      "17          Spain      709\n",
      "10      Hong Kong      653\n",
      "5           China      607\n",
      "4           Chile      607\n",
      "9   Great Britain      493\n",
      "3          Canada      453\n",
      "15       Malaysia      441\n",
      "16    Philippines      366\n",
      "1         Bolivia      292\n",
      "6        Colombia      276\n",
      "19         Taiwan      165\n",
      "0       Australia      106\n",
      "18         Sweden       85\n"
     ]
    }
   ],
   "source": [
    "### 우승자 국가 통계 : 선거인단 방식\n",
    "\n",
    "country_players_sum = df.groupby('country')['players'].sum().reset_index()\n",
    "df_1 = pd.DataFrame(country_players_sum)\n",
    "df_1 = df_1.sort_values('players', ascending=False)    # 'players' 열을 기준으로 내림차순 정렬\n",
    "\n",
    "print(df_1)"
   ]
  },
  {
   "cell_type": "code",
   "execution_count": 15,
   "id": "25f5cc56-ba5e-40a8-a5ee-8dba0da8c45e",
   "metadata": {},
   "outputs": [
    {
     "name": "stdout",
     "output_type": "stream",
     "text": [
      "          country  count\n",
      "0           Japan     34\n",
      "1   United States     16\n",
      "2         Unknown     13\n",
      "3          France      9\n",
      "4          Brazil      8\n",
      "5           Korea      7\n",
      "6           Italy      6\n",
      "7         Germany      6\n",
      "8       Indonesia      5\n",
      "12         Canada      3\n",
      "11    Philippines      3\n",
      "10          Spain      3\n",
      "9           China      3\n",
      "13      Hong Kong      2\n",
      "14       Malaysia      2\n",
      "15         Taiwan      2\n",
      "16       Colombia      2\n",
      "17  Great Britain      2\n",
      "18          Chile      2\n",
      "19      Australia      1\n",
      "20        Bolivia      1\n",
      "21         Sweden      1\n"
     ]
    }
   ],
   "source": [
    "### 우승자 국가 통계 : 카운팅\n",
    "\n",
    "country_counts = df['country'].value_counts().reset_index()\n",
    "country_counts.columns = ['country', 'count']\n",
    "\n",
    "df_2 = pd.DataFrame(country_counts)\n",
    "df_2 = df_2.sort_values('count', ascending=False)\n",
    "\n",
    "# 결과를 출력합니다.\n",
    "print(df_2)"
   ]
  },
  {
   "cell_type": "code",
   "execution_count": 16,
   "id": "caaae288-d5ae-40f2-a71e-4781af0d9dbf",
   "metadata": {},
   "outputs": [
    {
     "name": "stdout",
     "output_type": "stream",
     "text": [
      "             winner  count\n",
      "0               Duo      4\n",
      "2     Penguinperson      2\n",
      "3         PIPPIKING      2\n",
      "4    ArcaninosShiny      2\n",
      "5          pain0xe1      2\n",
      "..              ...    ...\n",
      "41     PlayboiPocky      1\n",
      "40          Nicolay      1\n",
      "39      farexdewitt      1\n",
      "38     DaiCavallo00      1\n",
      "118        Xatumiko      1\n",
      "\n",
      "[119 rows x 2 columns]\n"
     ]
    }
   ],
   "source": [
    "### 우승자 통계 : 카운팅\n",
    "\n",
    "winner_counts = df['winner'].value_counts().reset_index()\n",
    "winner_counts.columns = ['winner', 'count']\n",
    "\n",
    "df_3 = pd.DataFrame(winner_counts)\n",
    "df_3 = df_3.sort_values('count', ascending=False)\n",
    "\n",
    "# 결과를 출력합니다.\n",
    "print(df_3)"
   ]
  },
  {
   "cell_type": "code",
   "execution_count": null,
   "id": "b16645a4-1c88-4716-9c81-66b69e86026f",
   "metadata": {},
   "outputs": [],
   "source": []
  }
 ],
 "metadata": {
  "kernelspec": {
   "display_name": "Python 3 (ipykernel)",
   "language": "python",
   "name": "python3"
  },
  "language_info": {
   "codemirror_mode": {
    "name": "ipython",
    "version": 3
   },
   "file_extension": ".py",
   "mimetype": "text/x-python",
   "name": "python",
   "nbconvert_exporter": "python",
   "pygments_lexer": "ipython3",
   "version": "3.8.20"
  }
 },
 "nbformat": 4,
 "nbformat_minor": 5
}
