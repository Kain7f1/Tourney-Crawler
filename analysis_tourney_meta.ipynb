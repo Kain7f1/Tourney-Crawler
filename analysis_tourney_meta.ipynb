{
 "cells": [
  {
   "cell_type": "code",
   "execution_count": 1,
   "id": "3e92518b-b0f1-4de8-b7d1-c5b46543d79d",
   "metadata": {},
   "outputs": [],
   "source": [
    "import pandas as pd"
   ]
  },
  {
   "cell_type": "code",
   "execution_count": 5,
   "id": "a8a35ce4-8e84-45dd-bf57-0108b43b6bb8",
   "metadata": {},
   "outputs": [
    {
     "name": "stdout",
     "output_type": "stream",
     "text": [
      "<class 'pandas.core.frame.DataFrame'>\n",
      "RangeIndex: 131 entries, 0 to 130\n",
      "Data columns (total 7 columns):\n",
      " #   Column        Non-Null Count  Dtype \n",
      "---  ------        --------------  ----- \n",
      " 0   date          131 non-null    object\n",
      " 1   tourney_name  131 non-null    object\n",
      " 2   organizer     131 non-null    object\n",
      " 3   players       131 non-null    int64 \n",
      " 4   winner        131 non-null    object\n",
      " 5   country       131 non-null    object\n",
      " 6   url           131 non-null    object\n",
      "dtypes: int64(1), object(6)\n",
      "memory usage: 7.3+ KB\n"
     ]
    }
   ],
   "source": [
    "tourney_result_file_name = \"tourney_result_250118_004156.csv\"\n",
    "df = pd.read_csv(\"./tourney_result/\" + tourney_result_file_name, encoding='utf-8')\n",
    "df.info()"
   ]
  },
  {
   "cell_type": "code",
   "execution_count": 6,
   "id": "38d2d6a5-9d75-4156-9ec7-435467fbb9c4",
   "metadata": {},
   "outputs": [
    {
     "data": {
      "text/html": [
       "<div>\n",
       "<style scoped>\n",
       "    .dataframe tbody tr th:only-of-type {\n",
       "        vertical-align: middle;\n",
       "    }\n",
       "\n",
       "    .dataframe tbody tr th {\n",
       "        vertical-align: top;\n",
       "    }\n",
       "\n",
       "    .dataframe thead th {\n",
       "        text-align: right;\n",
       "    }\n",
       "</style>\n",
       "<table border=\"1\" class=\"dataframe\">\n",
       "  <thead>\n",
       "    <tr style=\"text-align: right;\">\n",
       "      <th></th>\n",
       "      <th>date</th>\n",
       "      <th>tourney_name</th>\n",
       "      <th>organizer</th>\n",
       "      <th>players</th>\n",
       "      <th>winner</th>\n",
       "      <th>country</th>\n",
       "      <th>url</th>\n",
       "    </tr>\n",
       "  </thead>\n",
       "  <tbody>\n",
       "    <tr>\n",
       "      <th>0</th>\n",
       "      <td>2025-01-17</td>\n",
       "      <td>Flash Friday #4</td>\n",
       "      <td>Pokemon Downunder</td>\n",
       "      <td>163</td>\n",
       "      <td>Manbok</td>\n",
       "      <td>Korea</td>\n",
       "      <td>play.limitlesstcg.com/tournament/67848af07960e...</td>\n",
       "    </tr>\n",
       "    <tr>\n",
       "      <th>1</th>\n",
       "      <td>2025-01-17</td>\n",
       "      <td>Torneio TD PADRO  - 2#/Janeiro - Free - BR</td>\n",
       "      <td>Thiago Donola</td>\n",
       "      <td>156</td>\n",
       "      <td>00_kj7</td>\n",
       "      <td>Japan</td>\n",
       "      <td>play.limitlesstcg.com/tournament/6780a9c67960e...</td>\n",
       "    </tr>\n",
       "    <tr>\n",
       "      <th>2</th>\n",
       "      <td>2025-01-17</td>\n",
       "      <td>Team Rocket Pocket Cup #25</td>\n",
       "      <td>Team Rocket</td>\n",
       "      <td>127</td>\n",
       "      <td>Manaa</td>\n",
       "      <td>Japan</td>\n",
       "      <td>play.limitlesstcg.com/tournament/6774a709ed2c7...</td>\n",
       "    </tr>\n",
       "    <tr>\n",
       "      <th>3</th>\n",
       "      <td>2025-01-17</td>\n",
       "      <td>Team Rocket Pocket Cup #24</td>\n",
       "      <td>Team Rocket</td>\n",
       "      <td>211</td>\n",
       "      <td>bau</td>\n",
       "      <td>Japan</td>\n",
       "      <td>play.limitlesstcg.com/tournament/6774a6d7ed2c7...</td>\n",
       "    </tr>\n",
       "    <tr>\n",
       "      <th>4</th>\n",
       "      <td>2025-01-16</td>\n",
       "      <td>The Dark League Wednesday #3</td>\n",
       "      <td>The Dark League</td>\n",
       "      <td>167</td>\n",
       "      <td>kinkakuj</td>\n",
       "      <td>Japan</td>\n",
       "      <td>play.limitlesstcg.com/tournament/6786a39f99961...</td>\n",
       "    </tr>\n",
       "  </tbody>\n",
       "</table>\n",
       "</div>"
      ],
      "text/plain": [
       "         date                                 tourney_name          organizer  \\\n",
       "0  2025-01-17                              Flash Friday #4  Pokemon Downunder   \n",
       "1  2025-01-17   Torneio TD PADRO  - 2#/Janeiro - Free - BR      Thiago Donola   \n",
       "2  2025-01-17                   Team Rocket Pocket Cup #25        Team Rocket   \n",
       "3  2025-01-17                   Team Rocket Pocket Cup #24        Team Rocket   \n",
       "4  2025-01-16                 The Dark League Wednesday #3    The Dark League   \n",
       "\n",
       "   players    winner country  \\\n",
       "0      163    Manbok   Korea   \n",
       "1      156    00_kj7   Japan   \n",
       "2      127     Manaa   Japan   \n",
       "3      211       bau   Japan   \n",
       "4      167  kinkakuj   Japan   \n",
       "\n",
       "                                                 url  \n",
       "0  play.limitlesstcg.com/tournament/67848af07960e...  \n",
       "1  play.limitlesstcg.com/tournament/6780a9c67960e...  \n",
       "2  play.limitlesstcg.com/tournament/6774a709ed2c7...  \n",
       "3  play.limitlesstcg.com/tournament/6774a6d7ed2c7...  \n",
       "4  play.limitlesstcg.com/tournament/6786a39f99961...  "
      ]
     },
     "execution_count": 6,
     "metadata": {},
     "output_type": "execute_result"
    }
   ],
   "source": [
    "df.head()"
   ]
  },
  {
   "cell_type": "code",
   "execution_count": null,
   "id": "7b0e4fa6-246b-4cbe-87fc-2befa440cea3",
   "metadata": {},
   "outputs": [],
   "source": []
  },
  {
   "cell_type": "code",
   "execution_count": null,
   "id": "3d38b3d3-a92d-4725-8f04-0443f95c8e2b",
   "metadata": {},
   "outputs": [],
   "source": []
  },
  {
   "cell_type": "code",
   "execution_count": null,
   "id": "e0b97cb9-dc1b-4200-bc8a-d7ad20469e4f",
   "metadata": {},
   "outputs": [],
   "source": []
  }
 ],
 "metadata": {
  "kernelspec": {
   "display_name": "Python 3 (ipykernel)",
   "language": "python",
   "name": "python3"
  },
  "language_info": {
   "codemirror_mode": {
    "name": "ipython",
    "version": 3
   },
   "file_extension": ".py",
   "mimetype": "text/x-python",
   "name": "python",
   "nbconvert_exporter": "python",
   "pygments_lexer": "ipython3",
   "version": "3.8.20"
  }
 },
 "nbformat": 4,
 "nbformat_minor": 5
}
