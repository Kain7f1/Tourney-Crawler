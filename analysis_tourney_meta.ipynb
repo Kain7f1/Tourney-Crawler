{
 "cells": [
  {
   "cell_type": "code",
   "execution_count": null,
   "id": "d3683b23-a6f4-41f9-8382-42eb5b4c4a34",
   "metadata": {},
   "outputs": [],
   "source": [
    "\"\"\"\n",
    "[프로세스]\n",
    "\n",
    "1. 하나의 tourney 대상으로 메타 분석\n",
    "    https://play.limitlesstcg.com/tournament/6779bb0bed2c78098c6b086b/metagame\n",
    "\n",
    "    step a) 아키타입 별 상대 승률\n",
    "    step b) 20장 덱 유형 별 vs 아키타입 승률\n",
    "\n",
    "2. 전체 tourney 묶어서 다시 분석\n",
    "\n",
    "    step a) Standard한 Tourney 분류\n",
    "            포맷을 Standard로 설정해도, 스탠다드 룰이 아닌 Tourney가 있음. \n",
    "            \n",
    "\"\"\""
   ]
  },
  {
   "cell_type": "code",
   "execution_count": 8,
   "id": "e0b97cb9-dc1b-4200-bc8a-d7ad20469e4f",
   "metadata": {},
   "outputs": [],
   "source": [
    "## 파일 불러오기"
   ]
  },
  {
   "cell_type": "code",
   "execution_count": 2,
   "id": "3e92518b-b0f1-4de8-b7d1-c5b46543d79d",
   "metadata": {},
   "outputs": [],
   "source": [
    "import pandas as pd"
   ]
  },
  {
   "cell_type": "code",
   "execution_count": 5,
   "id": "a8a35ce4-8e84-45dd-bf57-0108b43b6bb8",
   "metadata": {},
   "outputs": [
    {
     "name": "stdout",
     "output_type": "stream",
     "text": [
      "<class 'pandas.core.frame.DataFrame'>\n",
      "RangeIndex: 133 entries, 0 to 132\n",
      "Data columns (total 7 columns):\n",
      " #   Column        Non-Null Count  Dtype \n",
      "---  ------        --------------  ----- \n",
      " 0   date          133 non-null    object\n",
      " 1   tourney_name  133 non-null    object\n",
      " 2   organizer     133 non-null    object\n",
      " 3   players       133 non-null    int64 \n",
      " 4   winner        133 non-null    object\n",
      " 5   country       133 non-null    object\n",
      " 6   url           133 non-null    object\n",
      "dtypes: int64(1), object(6)\n",
      "memory usage: 7.4+ KB\n"
     ]
    }
   ],
   "source": [
    "tourney_result_file_name = \"tourney_result_250118_040230.csv\"\n",
    "df = pd.read_csv(\"./tourney_result/\" + tourney_result_file_name, encoding='utf-8')\n",
    "df.info()"
   ]
  },
  {
   "cell_type": "code",
   "execution_count": 6,
   "id": "38d2d6a5-9d75-4156-9ec7-435467fbb9c4",
   "metadata": {},
   "outputs": [
    {
     "data": {
      "text/html": [
       "<div>\n",
       "<style scoped>\n",
       "    .dataframe tbody tr th:only-of-type {\n",
       "        vertical-align: middle;\n",
       "    }\n",
       "\n",
       "    .dataframe tbody tr th {\n",
       "        vertical-align: top;\n",
       "    }\n",
       "\n",
       "    .dataframe thead th {\n",
       "        text-align: right;\n",
       "    }\n",
       "</style>\n",
       "<table border=\"1\" class=\"dataframe\">\n",
       "  <thead>\n",
       "    <tr style=\"text-align: right;\">\n",
       "      <th></th>\n",
       "      <th>date</th>\n",
       "      <th>tourney_name</th>\n",
       "      <th>organizer</th>\n",
       "      <th>players</th>\n",
       "      <th>winner</th>\n",
       "      <th>country</th>\n",
       "      <th>url</th>\n",
       "    </tr>\n",
       "  </thead>\n",
       "  <tbody>\n",
       "    <tr>\n",
       "      <th>0</th>\n",
       "      <td>2025-01-17</td>\n",
       "      <td>IDEAVOLUTION Swiss Round Tournament</td>\n",
       "      <td>PTCGO-ID</td>\n",
       "      <td>333</td>\n",
       "      <td>kana41</td>\n",
       "      <td>Japan</td>\n",
       "      <td>play.limitlesstcg.com/tournament/677ff37e7960e...</td>\n",
       "    </tr>\n",
       "    <tr>\n",
       "      <th>1</th>\n",
       "      <td>2025-01-17</td>\n",
       "      <td>Flash Friday #4</td>\n",
       "      <td>Pokemon Downunder</td>\n",
       "      <td>163</td>\n",
       "      <td>Manbok</td>\n",
       "      <td>Korea</td>\n",
       "      <td>play.limitlesstcg.com/tournament/67848af07960e...</td>\n",
       "    </tr>\n",
       "    <tr>\n",
       "      <th>2</th>\n",
       "      <td>2025-01-17</td>\n",
       "      <td>Torneio TD PADRÃO  - 2#/Janeiro - Free - BR</td>\n",
       "      <td>Thiago Donola</td>\n",
       "      <td>156</td>\n",
       "      <td>00_kj7</td>\n",
       "      <td>Japan</td>\n",
       "      <td>play.limitlesstcg.com/tournament/6780a9c67960e...</td>\n",
       "    </tr>\n",
       "    <tr>\n",
       "      <th>3</th>\n",
       "      <td>2025-01-17</td>\n",
       "      <td>Team Rocket Pocket Cup #25</td>\n",
       "      <td>Team Rocket</td>\n",
       "      <td>127</td>\n",
       "      <td>Manaa</td>\n",
       "      <td>Japan</td>\n",
       "      <td>play.limitlesstcg.com/tournament/6774a709ed2c7...</td>\n",
       "    </tr>\n",
       "    <tr>\n",
       "      <th>4</th>\n",
       "      <td>2025-01-17</td>\n",
       "      <td>Team Rocket Pocket Cup #24</td>\n",
       "      <td>Team Rocket</td>\n",
       "      <td>211</td>\n",
       "      <td>bau</td>\n",
       "      <td>Japan</td>\n",
       "      <td>play.limitlesstcg.com/tournament/6774a6d7ed2c7...</td>\n",
       "    </tr>\n",
       "  </tbody>\n",
       "</table>\n",
       "</div>"
      ],
      "text/plain": [
       "         date                                  tourney_name  \\\n",
       "0  2025-01-17          IDEAVOLUTION Swiss Round Tournament    \n",
       "1  2025-01-17                               Flash Friday #4   \n",
       "2  2025-01-17   Torneio TD PADRÃO  - 2#/Janeiro - Free - BR   \n",
       "3  2025-01-17                    Team Rocket Pocket Cup #25   \n",
       "4  2025-01-17                    Team Rocket Pocket Cup #24   \n",
       "\n",
       "           organizer  players  winner country  \\\n",
       "0           PTCGO-ID      333  kana41   Japan   \n",
       "1  Pokemon Downunder      163  Manbok   Korea   \n",
       "2      Thiago Donola      156  00_kj7   Japan   \n",
       "3        Team Rocket      127   Manaa   Japan   \n",
       "4        Team Rocket      211     bau   Japan   \n",
       "\n",
       "                                                 url  \n",
       "0  play.limitlesstcg.com/tournament/677ff37e7960e...  \n",
       "1  play.limitlesstcg.com/tournament/67848af07960e...  \n",
       "2  play.limitlesstcg.com/tournament/6780a9c67960e...  \n",
       "3  play.limitlesstcg.com/tournament/6774a709ed2c7...  \n",
       "4  play.limitlesstcg.com/tournament/6774a6d7ed2c7...  "
      ]
     },
     "execution_count": 6,
     "metadata": {},
     "output_type": "execute_result"
    }
   ],
   "source": [
    "df.head()"
   ]
  },
  {
   "cell_type": "code",
   "execution_count": 7,
   "id": "7b0e4fa6-246b-4cbe-87fc-2befa440cea3",
   "metadata": {},
   "outputs": [
    {
     "data": {
      "text/plain": [
       "'play.limitlesstcg.com/tournament/677ff37e7960ec710efe8a57'"
      ]
     },
     "execution_count": 7,
     "metadata": {},
     "output_type": "execute_result"
    }
   ],
   "source": [
    "## 1. 실험 : 하나의 tourney 대상으로 메타 분석"
   ]
  },
  {
   "cell_type": "code",
   "execution_count": null,
   "id": "3d38b3d3-a92d-4725-8f04-0443f95c8e2b",
   "metadata": {},
   "outputs": [],
   "source": [
    "df['url'][0]"
   ]
  },
  {
   "cell_type": "code",
   "execution_count": null,
   "id": "d968ae0a-86da-4bb1-ab4e-f02be9c45788",
   "metadata": {},
   "outputs": [],
   "source": []
  },
  {
   "cell_type": "code",
   "execution_count": null,
   "id": "7c147ecf-6000-45e7-b589-790cebc89249",
   "metadata": {},
   "outputs": [],
   "source": []
  }
 ],
 "metadata": {
  "kernelspec": {
   "display_name": "Python 3 (ipykernel)",
   "language": "python",
   "name": "python3"
  },
  "language_info": {
   "codemirror_mode": {
    "name": "ipython",
    "version": 3
   },
   "file_extension": ".py",
   "mimetype": "text/x-python",
   "name": "python",
   "nbconvert_exporter": "python",
   "pygments_lexer": "ipython3",
   "version": "3.8.20"
  }
 },
 "nbformat": 4,
 "nbformat_minor": 5
}
